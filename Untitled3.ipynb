{
  "nbformat": 4,
  "nbformat_minor": 0,
  "metadata": {
    "colab": {
      "provenance": [],
      "authorship_tag": "ABX9TyOzbKdfqxnLzvlJzprRDTc2",
      "include_colab_link": true
    },
    "kernelspec": {
      "name": "python3",
      "display_name": "Python 3"
    },
    "language_info": {
      "name": "python"
    }
  },
  "cells": [
    {
      "cell_type": "markdown",
      "metadata": {
        "id": "view-in-github",
        "colab_type": "text"
      },
      "source": [
        "<a href=\"https://colab.research.google.com/github/giguiliene/codigos/blob/main/Untitled3.ipynb\" target=\"_parent\"><img src=\"https://colab.research.google.com/assets/colab-badge.svg\" alt=\"Open In Colab\"/></a>"
      ]
    },
    {
      "cell_type": "code",
      "execution_count": 1,
      "metadata": {
        "colab": {
          "base_uri": "https://localhost:8080/"
        },
        "id": "0zWkDpybV858",
        "outputId": "8b6439db-cee7-4768-f879-f402808488c1"
      },
      "outputs": [
        {
          "output_type": "stream",
          "name": "stdout",
          "text": [
            "{'ano': 2010, 'genero': 'Ficção Científica', 'notas': [9.3, 9.0, 9.5]}\n",
            "O Senhor dos Anéis - ano: 2001, genero: Fantasia, notas: [9.0, 8.5, 9.2]\n",
            "Matrix - ano: 1999, genero: Ficção Científica, notas: [8.7, 9.0, 8.8]\n",
            "Inception - ano: 2010, genero: Ficção Científica, notas: [9.3, 9.0, 9.5]\n",
            "Vingadores - ano: 2012, genero: Ação, notas: [8.5, 8.6, 8.7]\n",
            "Média total das notas dos filmes: 8.9\n"
          ]
        }
      ],
      "source": [
        "filmes = {\n",
        "    \"O Senhor dos Anéis\": {\"ano\": 2001, \"genero\": \"Fantasia\", \"notas\": [9.0, 8.5, 9.2]},\n",
        "    \"Matrix\": {\"ano\": 1999, \"genero\": \"Ficção Científica\", \"notas\": [8.7, 9.0, 8.8]},\n",
        "    \"Inception\": {\"ano\": 2010, \"genero\": \"Ficção Científica\", \"notas\": [9.3, 9.0, 9.5]},\n",
        "    \"Vingadores\": {\"ano\": 2012, \"genero\": \"Ação\", \"notas\": [8.5, 8.6, 8.7]}\n",
        "}\n",
        "print (filmes[\"Inception\"])\n",
        "\n",
        "for nome, info in filmes.items():\n",
        "  print (f\"{nome} - ano: {info['ano']}, genero: {info['genero']}, notas: {info['notas']}\")\n",
        "\n",
        "\n",
        "def media_total_notas(filmes):\n",
        "    total_notas = 0\n",
        "    contador_notas = 0\n",
        "    for filme in filmes.values():\n",
        "        total_notas += sum(filme[\"notas\"])\n",
        "        contador_notas += len(filme[\"notas\"])\n",
        "    return total_notas / contador_notas if contador_notas > 0 else 0\n",
        "\n",
        "print(\"Média total das notas dos filmes:\", media_total_notas(filmes))"
      ]
    }
  ]
}