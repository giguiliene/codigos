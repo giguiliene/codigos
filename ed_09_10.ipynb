{
  "nbformat": 4,
  "nbformat_minor": 0,
  "metadata": {
    "colab": {
      "provenance": [],
      "authorship_tag": "ABX9TyPo1i9c9gne0XnIHxH0P/Ze",
      "include_colab_link": true
    },
    "kernelspec": {
      "name": "python3",
      "display_name": "Python 3"
    },
    "language_info": {
      "name": "python"
    }
  },
  "cells": [
    {
      "cell_type": "markdown",
      "metadata": {
        "id": "view-in-github",
        "colab_type": "text"
      },
      "source": [
        "<a href=\"https://colab.research.google.com/github/giguiliene/codigos/blob/main/ed_09_10.ipynb\" target=\"_parent\"><img src=\"https://colab.research.google.com/assets/colab-badge.svg\" alt=\"Open In Colab\"/></a>"
      ]
    },
    {
      "cell_type": "code",
      "execution_count": 5,
      "metadata": {
        "colab": {
          "base_uri": "https://localhost:8080/"
        },
        "id": "7qCXloNajL-o",
        "outputId": "96fe8868-def7-4a1b-f0cc-5af82fe04c0c"
      },
      "outputs": [
        {
          "output_type": "stream",
          "name": "stdout",
          "text": [
            "{'idade': 20, 'celular': 55555554, 'nota': 7.5}\n"
          ]
        }
      ],
      "source": [
        "estudantes = {\n",
        "  \"João\" : {\"idade\" : 20, \"celular\" : 55555554, \"nota\" : 7.5},\n",
        "  \"Maria\" : {\"idade\" : 21, \"celular\" : 55555555, \"nota\" : 9},\n",
        "  \"Liene\" : {\"idade\" : 22, \"celular\" : 55555556, \"nota\" : 10},\n",
        "  \"Vera\" : {\"idade\" : 23, \"celular\" : 55555557, \"nota\" : 9.5},\n",
        "  \"Juliana\" : {\"idade\" : 24, \"celular\" : 55555558, \"nota\" : 9}\n",
        "}\n",
        "\n",
        "print (estudantes[\"João\"])\n"
      ]
    },
    {
      "cell_type": "code",
      "source": [
        "\n",
        "for nome, info in estudantes.items():\n",
        "  print (f\"{nome} - Idade: {info['idade']}, Celular: {info['celular']}, Nota: {info['nota']}\")"
      ],
      "metadata": {
        "colab": {
          "base_uri": "https://localhost:8080/"
        },
        "id": "4szKOMzYr5fh",
        "outputId": "20b751aa-1652-479d-9ddb-933ec107d4d3"
      },
      "execution_count": 6,
      "outputs": [
        {
          "output_type": "stream",
          "name": "stdout",
          "text": [
            "João - Idade: 20, Celular: 55555554, Nota: 7.5\n",
            "Maria - Idade: 21, Celular: 55555555, Nota: 9\n",
            "Liene - Idade: 22, Celular: 55555556, Nota: 10\n",
            "Vera - Idade: 23, Celular: 55555557, Nota: 9.5\n",
            "Juliana - Idade: 24, Celular: 55555558, Nota: 9\n"
          ]
        }
      ]
    },
    {
      "cell_type": "code",
      "source": [
        "estudantes [\"Pedro\"] = {\"idade\" : 25, \"celular\" : 55555559, \"nota\" : 7.5}\n",
        "\n",
        "del estudantes [\"João\"]\n",
        "\n",
        "for nome, info in estudantes.items():\n",
        "  print (f\"{nome} - Idade: {info['idade']}, Celular: {info['celular']}, Nota: {info['nota']}\")"
      ],
      "metadata": {
        "colab": {
          "base_uri": "https://localhost:8080/"
        },
        "id": "Lpk1GpfcsJam",
        "outputId": "26bc9775-709d-4178-f886-e668b0de48b5"
      },
      "execution_count": 8,
      "outputs": [
        {
          "output_type": "stream",
          "name": "stdout",
          "text": [
            "Maria - Idade: 21, Celular: 55555555, Nota: 9\n",
            "Liene - Idade: 22, Celular: 55555556, Nota: 10\n",
            "Vera - Idade: 23, Celular: 55555557, Nota: 9.5\n",
            "Juliana - Idade: 24, Celular: 55555558, Nota: 9\n",
            "Pedro - Idade: 25, Celular: 55555559, Nota: 7.5\n"
          ]
        }
      ]
    }
  ]
}